{
  "nbformat": 4,
  "nbformat_minor": 0,
  "metadata": {
    "colab": {
      "provenance": [],
      "mount_file_id": "1uNAVensatksg3JgCw-hnrYc98iaYwlwk",
      "authorship_tag": "ABX9TyNFoRClBz+F11+mVzK+0sOc",
      "include_colab_link": true
    },
    "kernelspec": {
      "name": "python3",
      "display_name": "Python 3"
    },
    "language_info": {
      "name": "python"
    }
  },
  "cells": [
    {
      "cell_type": "markdown",
      "metadata": {
        "id": "view-in-github",
        "colab_type": "text"
      },
      "source": [
        "<a href=\"https://colab.research.google.com/github/Riccardolotorto/ripassoestivo2023_FlaskGeopandasPython/blob/main/RipassoEstivo_2023_geopandas.ipynb\" target=\"_parent\"><img src=\"https://colab.research.google.com/assets/colab-badge.svg\" alt=\"Open In Colab\"/></a>"
      ]
    },
    {
      "cell_type": "code",
      "execution_count": null,
      "metadata": {
        "id": "c_8P_vsI1ibm"
      },
      "outputs": [],
      "source": [
        "!pip install geopandas contextily"
      ]
    },
    {
      "cell_type": "code",
      "source": [
        "import geopandas as gpd\n",
        "import contextily as ctx"
      ],
      "metadata": {
        "id": "UPRmLiy22lH8"
      },
      "execution_count": 3,
      "outputs": []
    },
    {
      "cell_type": "code",
      "source": [
        "province = gpd.read_file(\"/content/drive/MyDrive/Colab Notebooks/ProvCM01012022_g\")"
      ],
      "metadata": {
        "id": "Vr-0YUKk2qRU"
      },
      "execution_count": 4,
      "outputs": []
    },
    {
      "cell_type": "code",
      "source": [
        "comuni = gpd.read_file(\"/content/drive/MyDrive/Colab Notebooks/Com01012022_g\")"
      ],
      "metadata": {
        "id": "--5A5UVI25gT"
      },
      "execution_count": 5,
      "outputs": []
    },
    {
      "cell_type": "code",
      "source": [
        "province3857 = province.to_crs(3857)\n",
        "comuni3857 = comuni.to_crs(3857)"
      ],
      "metadata": {
        "id": "afB7_o7-3ALk"
      },
      "execution_count": 17,
      "outputs": []
    },
    {
      "cell_type": "markdown",
      "source": [
        "1. dato il nome di una provincia inserito dall'utente, visualizzarne i confini su una mappa di contextily"
      ],
      "metadata": {
        "id": "EQac9MZ63GPr"
      }
    },
    {
      "cell_type": "code",
      "source": [
        "provinciaUtente = input(\"Inserisci una provincia: \")\n",
        "provinciaSelezionata = province3857[province3857[\"DEN_UTS\"] == provinciaUtente.capitalize()]\n",
        "ax = provinciaSelezionata.plot(figsize = (16, 8), edgecolor = \"k\", facecolor = \"none\")\n",
        "ctx.add_basemap(ax)"
      ],
      "metadata": {
        "id": "EswLi45L3I6j"
      },
      "execution_count": null,
      "outputs": []
    },
    {
      "cell_type": "markdown",
      "source": [
        "2.  creare un nuovo geodataset contenente i comuni di quella provincia"
      ],
      "metadata": {
        "id": "1BH88NDM35vp"
      }
    },
    {
      "cell_type": "code",
      "source": [
        "comuniProvinciaSelezionata = comuni3857[comuni3857.within(provinciaSelezionata.geometry.item())]"
      ],
      "metadata": {
        "id": "Bu2O1_MD39CJ"
      },
      "execution_count": 18,
      "outputs": []
    },
    {
      "cell_type": "markdown",
      "source": [
        "3. visualizzare l'elenco dei comuni presenti in quella provincia. L'elenco deve essere in ordine alfabetico"
      ],
      "metadata": {
        "id": "PClSCp304I0h"
      }
    },
    {
      "cell_type": "code",
      "source": [
        "comuniProvinciaSelezionata[[\"COMUNE\"]].sort_values(by=\"COMUNE\").reset_index()"
      ],
      "metadata": {
        "id": "_AC_4hk84LMm"
      },
      "execution_count": null,
      "outputs": []
    },
    {
      "cell_type": "markdown",
      "source": [
        "4.  costruire un dizionario contenente i nomi dei comuni della provincia inserita e la loro estensione"
      ],
      "metadata": {
        "id": "6wBtagId40mG"
      }
    },
    {
      "cell_type": "code",
      "source": [
        "comuni3857"
      ],
      "metadata": {
        "id": "v8x9_8x65O-k"
      },
      "execution_count": null,
      "outputs": []
    },
    {
      "cell_type": "code",
      "source": [
        "dizionario = dict(zip(comuniProvinciaSelezionata[\"COMUNE\"], comuniProvinciaSelezionata[\"Shape_Area\"]))\n",
        "dizionario"
      ],
      "metadata": {
        "id": "DtBuOhA245Uz"
      },
      "execution_count": null,
      "outputs": []
    },
    {
      "cell_type": "markdown",
      "source": [
        "5. progettare una funzione che trasformi una superficie da kmq in miglia quadrate"
      ],
      "metadata": {
        "id": "BxhIKIuF5oDI"
      }
    },
    {
      "cell_type": "code",
      "source": [
        "def convertitore(mq):\n",
        "  kmq = mq / 1000000\n",
        "  MigliaQ = kmq * 0.386102\n",
        "  return MigliaQ"
      ],
      "metadata": {
        "id": "f7YcLDDy5s0O"
      },
      "execution_count": 26,
      "outputs": []
    },
    {
      "cell_type": "code",
      "source": [
        "convertitore(10)"
      ],
      "metadata": {
        "id": "4FMe3ybF6ZDo"
      },
      "execution_count": null,
      "outputs": []
    },
    {
      "cell_type": "markdown",
      "source": [
        "6. applicare la funzione appena creata al geodataset dei comuni della provincia, aggiungendo una colonna denominata superficeInMigliaQuadrate"
      ],
      "metadata": {
        "id": "fVkK6Uyk6kZt"
      }
    },
    {
      "cell_type": "code",
      "source": [
        "comuniProvinciaSelezionata[\"superficeInMigliaQuadrate\"] = convertitore(comuniProvinciaSelezionata[\"Shape_Area\"])\n",
        "comuniProvinciaSelezionata"
      ],
      "metadata": {
        "id": "HtAdcjjf6m56"
      },
      "execution_count": null,
      "outputs": []
    },
    {
      "cell_type": "markdown",
      "source": [
        "7. creare una altro geodataset contenente i comuni che confinano con la provincia inserita dall'utente"
      ],
      "metadata": {
        "id": "rGy4wZFe7qn8"
      }
    },
    {
      "cell_type": "code",
      "source": [
        "comuniConfinantiProvinciaSelezionata = comuni3857[comuni3857.touches(provinciaSelezionata.geometry.item())]"
      ],
      "metadata": {
        "id": "ee20g5NT7s3u"
      },
      "execution_count": 29,
      "outputs": []
    },
    {
      "cell_type": "markdown",
      "source": [
        "8.  calcolare l'estensione complessiva  in miglia quadrate dei comuni che confinano con la provincia inserita dall'utente"
      ],
      "metadata": {
        "id": "tbJAMdED79va"
      }
    },
    {
      "cell_type": "code",
      "source": [
        "comuniConfinantiProvinciaSelezionata[\"superficeInMigliaQuadrate\"] = convertitore(comuniConfinantiProvinciaSelezionata[\"Shape_Area\"])\n",
        "print(comuniConfinantiProvinciaSelezionata[\"superficeInMigliaQuadrate\"].sum())"
      ],
      "metadata": {
        "id": "xw9vGWBI8Avu"
      },
      "execution_count": null,
      "outputs": []
    },
    {
      "cell_type": "markdown",
      "source": [
        "9.  visualizzare il comune confinante più esteso"
      ],
      "metadata": {
        "id": "O3tC9jCZ8ju-"
      }
    },
    {
      "cell_type": "code",
      "source": [
        "comuneConfinanteMaggiore = comuniConfinantiProvinciaSelezionata[comuniConfinantiProvinciaSelezionata[\"Shape_Area\"] == comuniConfinantiProvinciaSelezionata[\"Shape_Area\"].max()][[\"COMUNE\"]]"
      ],
      "metadata": {
        "id": "hclA19Ew8nAA"
      },
      "execution_count": 32,
      "outputs": []
    },
    {
      "cell_type": "code",
      "source": [
        "comuneConfinanteMaggiore"
      ],
      "metadata": {
        "id": "9Pw5mrsS87yR"
      },
      "execution_count": null,
      "outputs": []
    },
    {
      "cell_type": "markdown",
      "source": [
        "10. calcolare la distanza tra il capoluogo della provincia inserita dall'utente e Milano"
      ],
      "metadata": {
        "id": "NZpjJb479dln"
      }
    },
    {
      "cell_type": "code",
      "source": [
        "distanza = comuni3857[comuni3857.COMUNE == \"Lecco\"].distance(comuni3857[comuni3857.COMUNE == \"Milano\"].geometry.item()) / 1000\n",
        "distanza"
      ],
      "metadata": {
        "id": "X_02N9cG9foC"
      },
      "execution_count": null,
      "outputs": []
    }
  ]
}